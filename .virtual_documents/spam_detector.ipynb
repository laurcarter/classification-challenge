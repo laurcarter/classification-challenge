


import pandas as pd
from sklearn.model_selection import train_test_split
from sklearn.metrics import accuracy_score





# Import the data
data = pd.read_csv("https://static.bc-edx.com/ai/ail-v-1-0/m13/challenge/spam-data.csv")
data.head()











# Create the labels set `y` and features DataFrame `X`



# Check the balance of the labels variable (`y`) by using the `value_counts` function.



# Split the data into X_train, X_test, y_train, y_test









from sklearn.preprocessing import StandardScaler

# Create the StandardScaler instance



# Fit the Standard Scaler with the training data



# Scale the training data






# Train a Logistic Regression model and print the model score
from sklearn.linear_model import LogisticRegression



# Make and save testing predictions with the saved logistic regression model using the test data

# Review the predictions



# Calculate the accuracy score by evaluating `y_test` vs. `testing_predictions`.






# Train a Random Forest Classifier model and print the model score
from sklearn.ensemble import RandomForestClassifier



# Make and save testing predictions with the saved logistic regression model using the test data


# Review the predictions



# Calculate the accuracy score by evaluating `y_test` vs. `testing_predictions`.










